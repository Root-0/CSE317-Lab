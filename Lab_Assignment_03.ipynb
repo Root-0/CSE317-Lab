{
  "cells": [
    {
      "cell_type": "markdown",
      "metadata": {
        "id": "view-in-github",
        "colab_type": "text"
      },
      "source": [
        "<a href=\"https://colab.research.google.com/github/Root-0/CSE317-Lab/blob/main/Lab_Assignment_03.ipynb\" target=\"_parent\"><img src=\"https://colab.research.google.com/assets/colab-badge.svg\" alt=\"Open In Colab\"/></a>"
      ]
    },
    {
      "cell_type": "markdown",
      "metadata": {
        "id": "-01V0t-ukc96"
      },
      "source": [
        "<a href=\"https://colab.research.google.com/github/mirsazzathossain/CSE317-Lab/blob/autumn_2022/Lab_Assignment_03.ipynb\" target=\"_parent\"><img src=\"https://colab.research.google.com/assets/colab-badge.svg\" alt=\"Open In Colab\"/></a>"
      ]
    },
    {
      "cell_type": "markdown",
      "metadata": {
        "id": "afMd339dkc97"
      },
      "source": [
        "#### **Wheat Seed Classification**\n",
        "\n",
        "In this assignment, you will use the [Wheat Seed Dataset](https://archive.ics.uci.edu/ml/datasets/seeds) to classify the type of wheat seed based on the measurements of the seed. The dataset contains 7 attributes and 210 instances. The attributes are:\n",
        "\n",
        "1. Area\n",
        "2. Perimeter\n",
        "3. Compactness\n",
        "4. Length of Kernel\n",
        "5. Width of Kernel\n",
        "6. Asymmetry Coefficient\n",
        "7. Length of Kernel Groove\n",
        "\n",
        "Based on the attributes, the dataset contains 3 classes:\n",
        "\n",
        "1. Kama\n",
        "2. Rosa\n",
        "3. Canadian\n",
        "\n",
        "The text file `seeds_dataset.txt` contains the dataset. The first 7 columns are the attributes and the last column is the class label. The class labels are encoded as  1, 2, and 3 for Kama, Rosa, and Canadian, respectively. The goal of this assignment is to build a classifier that can predict the type of wheat seed based on the measurements of the seed. Follow the instructions below to complete the assignment."
      ]
    },
    {
      "cell_type": "markdown",
      "metadata": {
        "id": "1T_2yG8Vkc97"
      },
      "source": [
        "#### **Instructions**\n",
        "\n",
        "1. Download the dataset from [Github](https://minhaskamal.github.io/DownGit/#/home?url=https://github.com/mirsazzathossain/CSE317-Lab-Numerical-Methods/blob/main/datasets/seeds_dataset.txt). It should be saved as `seeds_dataset.txt`.\n",
        "2. Upload the dataset to your Google Drive and mount your Google Drive to Colab.\n",
        "3. Read the dataset using numpy's built-in function `np.genfromtxt()`. Pass the following parameters to the function:\n",
        "    - `fname`: The path to the dataset\n",
        "    - `delimiter`: The delimiter used in the dataset to separate the attributes (Hint: Use `'\\t'` as the delimiter)\n",
        "    \n",
        "4. Shuffle the dataset using `np.random.shuffle()`. Pass the following parameters to the function:\n",
        "    - `x`: The dataset\n",
        "5. Split the dataset into features and labels. The first 7 columns of the dataset are the features and the last column is the label. Use numpy's array slicing to split the dataset into features and labels. (Hint: Use `:` to select all the rows and `0:7` to select the first 7 columns for features and `7` to select the last column for labels)\n",
        "6. Split the dataset into training and testing sets. Use numpy's built-in function `np.split()` to split the dataset into training and testing sets. Pass the following parameters to the function:\n",
        "    - `ary`: The dataset\n",
        "    - `indices_or_sections`: The number of instances in the training set (Hint: Use `int(0.8 * len(dataset))` to get the number of instances in the training set)\n",
        "    - `axis`: The axis to split the dataset (Hint: Use `0` to split the dataset along the rows)\n",
        "7. Find the minimum and maximum values of each feature in the training set. Use numpy's built-in function `np.min()` and `np.max()` to find the minimum and maximum values of each feature in the training set. Pass the following parameters to the function:\n",
        "    - `a`: The training set\n",
        "    - `axis`: The axis to find the minimum and maximum values (Hint: Use `0` to find the minimum and maximum values along the columns)\n",
        "8. In this step, you must normalize the training and test sets. Nomalization is an essential part of every machine learning project. It is used to bring all the features to the same scale. If the features are not normalized, the higher-valued features will outnumber the lower-valued ones.\n",
        "\n",
        "    For example, suppose we have a dataset with two features: the number of bedrooms in a house and the size of the garden in square feet and we are trying to forecast the rent of the residence. If the features are not normalized, the feature with higher values will take precedence over the feature with lower values. In this scenario, the garden area has a greater value. As a result, the model will make an attempt to forecast the house's price depending on the size of the garden. As a consequence, the model will be faulty since most individuals will not pay higher rent for more garden area. We need to normalize the features in order to prevent this. Let's look at the following illustration to better comprehend what we have said:\n",
        "    \n",
        "    - House 1: 2 bedrooms, 2500 sq. ft. garden\n",
        "    - House 2: 3 bedrooms, 500 sq. ft. garden\n",
        "    - House 3: 7 bedrooms, 2300 sq. ft. garden\n",
        "\n",
        "    Considering that most people won't pay more for a larger garden, it follows that the rent for House 1 should be more comparable to House 2 than to House 3. However, if we give the aforementioned data to a k-NN classifier without normalization, it will compute the euclidean distance between the test and training examples and pick the class of the test instance based on the class of the closest training instance.\n",
        "\n",
        "    The euclidean distance between the test instance and the training instances will be:\n",
        "\n",
        "    - Distance between house 1 and house 2: $\\sqrt{(2-3)^2 + (2500-500)^2} = 2000$\n",
        "    - Distance between house 1 and house 3: $\\sqrt{(2-7)^2 + (2500-2300)^2} = 200$\n",
        "\n",
        "    As you can see, the distance between houses 1 and 3 is shorter than that between houses 1 and 2. As a result, the model will forecast that house 1 will cost around the same as house 3. This is not what was anticipated. We need to normalize the features in order to prevent this. To normalize the features, subtract the minimum value of each feature from all the values of that feature and divide the result by the range of the feature. The range of a feature is the difference between the maximum and minimum values of that feature. The formula for normalization is given below:\n",
        "\n",
        "    $$x_{normalized} = \\frac{x - min(x)}{max(x) - min(x)}$$\n",
        "\n",
        "    where $x$ is the feature vector. The above formula will normalize the features to a scale of 0 to 1.\n",
        "\n",
        "    Let's normalize the features in the above example. To do so, we need to find the minimum and maximum values of each feature. The minimum and maximum values of the number of bedrooms are 2 and 7, respectively. The minimum and maximum values of the garden area are 500 and 2500, respectively. The normalized values of the features are given below:\n",
        "\n",
        "    - House 1: $(2 - 2) / 5 = 0$ bedrooms, $(2500 - 500) / 2000 = 0.75$ sq. ft. garden\n",
        "    - House 2: $(3 - 2) / 5 = 0.2$ bedrooms, $(500 - 500) / 2000 = 0$ sq. ft. garden\n",
        "    - House 3: $(7 - 2) / 5 = 1$ bedrooms, $(2300 - 500) / 2000 = 0.85$ sq. ft. garden\n",
        "\n",
        "    Now, the euclidean distance between the test instance and the training instances will be:\n",
        "\n",
        "    - Distance between house 1 and house 2: $\\sqrt{(0-0.2)^2 + (0.75-0)^2} = 0.77$\n",
        "    - Distance between house 1 and house 3: $\\sqrt{(0-1)^2 + (0.75-0.9)^2} = 1.11$\n",
        "\n",
        "    As you can see now, the distance between houses 1 and 2 is shorter than that between houses 1 and 3. The model will thus forecast that house 1 will cost about the same as house 2, according to the prediction. This is what is anticipated. This is what normalization does. It equalizes the scale of all features. This is important because it prevents the features with higher values from dominating the features with lower values.\n",
        "\n",
        "    Use the minimum and maximum values you found in the previous step to normalize the training and test sets.\n",
        "9. Now, you have to build a classifier to classify the type of wheat seed based on the measurements of the seed. Use the K-Nearest Neighbors algorithm to build the classifier. Use the Euclidean distance to find the nearest neighbors.\n",
        "\n",
        "10. Output the number of data points in the testing set and the number of correct predictions made by the classifier for each class."
      ]
    },
    {
      "cell_type": "markdown",
      "source": [
        "\n",
        "1. Download the dataset from Github. It should be saved as seeds_dataset.txt.\n",
        "```\n",
        "\n",
        "```\n",
        "\n"
      ],
      "metadata": {
        "id": "lBSd_XNFkq93"
      }
    },
    {
      "cell_type": "code",
      "source": [
        "from google.colab import drive\n",
        "drive.mount('/content/drive')"
      ],
      "metadata": {
        "id": "cO7369ZSkiML"
      },
      "execution_count": null,
      "outputs": []
    },
    {
      "cell_type": "code",
      "source": [
        "\n",
        "import numpy as np\n",
        "\n",
        "# Step 1: Read the dataset\n",
        "# Note: Replace 'seeds_dataset.txt' with the actual path to your dataset\n",
        "dataset = np.genfromtxt('seeds_dataset.txt', delimiter='\\t')\n",
        "\n",
        "# Step 2: Shuffle the dataset\n",
        "np.random.shuffle(dataset)\n",
        "\n",
        "# Step 3: Split dataset into features and labels\n",
        "X = dataset[:, 0:7]  # First 7 columns are features\n",
        "y = dataset[:, 7]    # Last column is the label\n",
        "\n",
        "# Step 4: Split the dataset into training and testing sets\n",
        "split_index = int(0.8 * len(dataset))\n",
        "X_train, X_test = np.split(X, [split_index])\n",
        "y_train, y_test = np.split(y, [split_index])\n",
        "\n",
        "# Step 5: Find min and max values for normalization\n",
        "X_train_min = np.min(X_train, axis=0)\n",
        "X_train_max = np.max(X_train, axis=0)\n",
        "\n",
        "# Step 6: Normalize the training and test sets\n",
        "def normalize(X, X_min, X_max):\n",
        "    \"\"\"Normalize features using min-max scaling.\"\"\"\n",
        "    # Avoid division by zero\n",
        "    X_range = X_max - X_min\n",
        "    X_range[X_range == 0] = 1\n",
        "    return (X - X_min) / X_range\n",
        "\n",
        "X_train_normalized = normalize(X_train, X_train_min, X_train_max)\n",
        "X_test_normalized = normalize(X_test, X_train_min, X_train_max)\n",
        "\n",
        "# Step 7: Implement K-Nearest Neighbors classifier\n",
        "def euclidean_distance(x1, x2):\n",
        "    \"\"\"Calculate Euclidean distance between two points.\"\"\"\n",
        "    return np.sqrt(np.sum((x1 - x2)**2))\n",
        "\n",
        "def knn_predict(X_train, y_train, X_test, k=3):\n",
        "    \"\"\"\n",
        "    Predict labels for test set using K-Nearest Neighbors.\n",
        "\n",
        "    Parameters:\n",
        "    X_train: Training feature set\n",
        "    y_train: Training labels\n",
        "    X_test: Test feature set\n",
        "    k: Number of nearest neighbors to consider\n",
        "\n",
        "    Returns:\n",
        "    Predicted labels for test set\n",
        "    \"\"\"\n",
        "    y_pred = []\n",
        "\n",
        "    for test_sample in X_test:\n",
        "        # Calculate distances to all training samples\n",
        "        distances = [euclidean_distance(test_sample, train_sample)\n",
        "                     for train_sample in X_train]\n",
        "\n",
        "        # Get indices of k nearest neighbors\n",
        "        k_indices = np.argsort(distances)[:k]\n",
        "\n",
        "        # Get the labels of k nearest neighbors\n",
        "        k_nearest_labels = y_train[k_indices]\n",
        "\n",
        "        # Find the most common label (majority vote)\n",
        "        unique_labels, counts = np.unique(k_nearest_labels, return_counts=True)\n",
        "        predicted_label = unique_labels[np.argmax(counts)]\n",
        "\n",
        "        y_pred.append(predicted_label)\n",
        "\n",
        "    return np.array(y_pred)\n",
        "\n",
        "# Step 8: Make predictions\n",
        "y_pred = knn_predict(X_train_normalized, y_train, X_test_normalized)\n",
        "\n",
        "# Step 9: Evaluate the classifier\n",
        "def print_classification_report(y_true, y_pred):\n",
        "    \"\"\"\n",
        "    Print classification report showing predictions for each class.\n",
        "\n",
        "    Parameters:\n",
        "    y_true: True labels\n",
        "    y_pred: Predicted labels\n",
        "    \"\"\"\n",
        "    print(f\"Total test samples: {len(y_true)}\")\n",
        "\n",
        "    # Class mapping\n",
        "    class_mapping = {1: 'Kama', 2: 'Rosa', 3: 'Canadian'}\n",
        "\n",
        "    # Calculate predictions for each class\n",
        "    for class_label in [1, 2, 3]:\n",
        "        class_true = y_true[y_true == class_label]\n",
        "        class_pred = y_pred[y_true == class_label]\n",
        "\n",
        "        correct_predictions = np.sum(class_true == class_pred)\n",
        "\n",
        "        print(f\"\\n{class_mapping[class_label]} class:\")\n",
        "        print(f\"Total samples: {len(class_true)}\")\n",
        "        print(f\"Correct predictions: {correct_predictions}\")\n",
        "        print(f\"Accuracy: {correct_predictions/len(class_true)*100:.2f}%\")\n",
        "\n",
        "# Print the classification report\n",
        "print_classification_report(y_test, y_pred)"
      ],
      "metadata": {
        "id": "8dUmmCJYko3I",
        "outputId": "198094ac-b18a-4322-f51f-dba243f6606d",
        "colab": {
          "base_uri": "https://localhost:8080/"
        }
      },
      "execution_count": 4,
      "outputs": [
        {
          "output_type": "stream",
          "name": "stdout",
          "text": [
            "Total test samples: 42\n",
            "\n",
            "Kama class:\n",
            "Total samples: 19\n",
            "Correct predictions: 17\n",
            "Accuracy: 89.47%\n",
            "\n",
            "Rosa class:\n",
            "Total samples: 9\n",
            "Correct predictions: 9\n",
            "Accuracy: 100.00%\n",
            "\n",
            "Canadian class:\n",
            "Total samples: 14\n",
            "Correct predictions: 14\n",
            "Accuracy: 100.00%\n"
          ]
        }
      ]
    }
  ],
  "metadata": {
    "kernelspec": {
      "display_name": "Python 3",
      "language": "python",
      "name": "python3"
    },
    "language_info": {
      "codemirror_mode": {
        "name": "ipython",
        "version": 3
      },
      "file_extension": ".py",
      "mimetype": "text/x-python",
      "name": "python",
      "nbconvert_exporter": "python",
      "pygments_lexer": "ipython3",
      "version": "3.10.6 (tags/v3.10.6:9c7b4bd, Aug  1 2022, 21:53:49) [MSC v.1932 64 bit (AMD64)]"
    },
    "orig_nbformat": 4,
    "vscode": {
      "interpreter": {
        "hash": "b148fc9bfa8b60132af830e32e1690e4e023b803e92912df15b823b90141dda6"
      }
    },
    "colab": {
      "provenance": [],
      "include_colab_link": true
    }
  },
  "nbformat": 4,
  "nbformat_minor": 0
}