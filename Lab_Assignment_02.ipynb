{
  "cells": [
    {
      "cell_type": "markdown",
      "metadata": {
        "id": "view-in-github",
        "colab_type": "text"
      },
      "source": [
        "<a href=\"https://colab.research.google.com/github/Root-0/CSE317-Lab/blob/main/Lab_Assignment_02.ipynb\" target=\"_parent\"><img src=\"https://colab.research.google.com/assets/colab-badge.svg\" alt=\"Open In Colab\"/></a>"
      ]
    },
    {
      "cell_type": "markdown",
      "metadata": {
        "id": "DXecKADD9osm"
      },
      "source": [
        "<a href=\"https://colab.research.google.com/github/mirsazzathossain/CSE317-Lab/blob/main/Lab_Assignment_02.ipynb\" target=\"_parent\"><img src=\"https://colab.research.google.com/assets/colab-badge.svg\" alt=\"Open In Colab\"/></a>"
      ]
    },
    {
      "cell_type": "markdown",
      "metadata": {
        "id": "VYtxDL4v9ost"
      },
      "source": [
        "#### **Find the following integral using the simpson's 1/3 rule**\n",
        "\n",
        "Simpson's 1/3 rule uses higher-order polynomials to approximate the integral of a function $f(x)$ over the interval $[a,b]$. For Example, if there is an extra point midway between $f(a)$ and $f(b)$, the three points can be connected with a parabola. The area under the parabola is an approximation of the integral of $f(x)$ over the interval $[a,b]$.\n",
        "\n",
        "<center>\n",
        "    <img src=\"./images/simpson.PNG\" width=\"400\" />\n",
        "</center>\n",
        "\n",
        "If we are given values of $f(x)$ at 3 points as $(x_0, f(x_0))$, $(x_1, f(x_1))$, and $(x_2, f(x_2))$ then we can estimate $f(x)$ using the Lagrange polynomial of degree 2:\n",
        "\n",
        "$$\n",
        "\\begin{align*}\n",
        "f(x) &\\approx f(x_0) \\frac{(x-x_1)(x-x_2)}{(x_0-x_1)(x_0-x_2)} + f(x_1) \\frac{(x-x_0)(x-x_2)}{(x_1-x_0)(x_1-x_2)} + f(x_2) \\frac{(x-x_0)(x-x_1)}{(x_2-x_0)(x_2-x_1)}\n",
        "\\end{align*}\n",
        "$$\n",
        "\n",
        "Now, as the area under the estimated curve is an approximation of the integral of $f(x)$ over the interval $[a,b]$, we can write the integral as:\n",
        "\n",
        "$$\n",
        "\\begin{align*}\n",
        "I &= \\int_{a}^{b} f(x) dx \\\\\n",
        "&\\approx \\int_{a}^{b} \\left[f(x_0)\\frac{(x-x_1)(x-x_2)}{(x_0-x_1)(x_0-x_2)} + f(x_1) \\frac{(x-x_0)(x-x_2)}{(x_1-x_0)(x_1-x_2)} + f(x_2) \\frac{(x-x_0)(x-x_1)}{(x_2-x_0)(x_2-x_1)} \\right] dx\n",
        "\\end{align*}\n",
        "$$\n",
        "\n",
        "When $a = x_0$, $b = x_2$, $x_1 = \\frac{a+b}{2}$, and $h = \\frac{b-a}{2}$, we can simplify the integral to:\n",
        "\n",
        "$$\n",
        "\\begin{align*}\n",
        "    I &\\approx \\frac{h}{3} \\left[ f(x_0) + 4f(x_1) + f(x_2) \\right] \\\\\n",
        "    &= (b-a) \\frac{f(x_0) + 4f(x_1) + f(x_2)}{6}\n",
        "\\end{align*}\n",
        "$$\n",
        "\n",
        "We will use Simpson's 1/3 rule to approximate the integral of $f(x) = 0.2 + 25x - 200x^2 + 675x^3 - 900x^4 + 400x^5$ over the interval $[0, 0.8]$. Follow the steps below to approximate the integral using Simpson's 1/3 rule."
      ]
    },
    {
      "cell_type": "markdown",
      "metadata": {
        "id": "M4dQR_DG9osv"
      },
      "source": [
        "##### **Step 1: Define the function**\n",
        "\n",
        "Define a function `f` that takes a single parameter `x` and returns the value of $f(x) = 0.2 + 25x - 200x^2 + 675x^3 - 900x^4 + 400x^5$ at `x`. Note that the function should be able to handle both scalar and vector inputs.\n"
      ]
    },
    {
      "cell_type": "code",
      "execution_count": 3,
      "metadata": {
        "id": "9OBi8DUn9osx"
      },
      "outputs": [],
      "source": [
        "# Write appropriate code\n",
        "\n",
        "import numpy as np\n",
        "\n",
        "def f(x):\n",
        "\n",
        "\n",
        "    return 0.2 + 25*x - 200*x**2 + 675*x**3 - 900*x**4 + 400*x**5"
      ]
    },
    {
      "cell_type": "markdown",
      "metadata": {
        "id": "rZGEoXRH9os0"
      },
      "source": [
        "##### **Step 2: Define a function to approximate the function $f(x)$ using Lagrange polynomial**\n",
        "\n",
        "Define a function `lagrange` that takes four parameters `x0`, `x1`, `x2` and `x` and returns the value of the Lagrange polynomial of degree 2 at `x`. The function should be able to handle both scalar and vector inputs. Use the function `f` defined in Step 1 to evaluate the function at the given points."
      ]
    },
    {
      "cell_type": "code",
      "execution_count": 4,
      "metadata": {
        "id": "mLKM8Phb9os1"
      },
      "outputs": [],
      "source": [
        "import numpy as np\n",
        "\n",
        "def lagrange(x0, x1, x2, x):\n",
        "\n",
        "    # Calculate function values at interpolation points\n",
        "    f_x0 = f(x0)\n",
        "    f_x1 = f(x1)\n",
        "    f_x2 = f(x2)\n",
        "\n",
        "    # Calculate Lagrange basis polynomials\n",
        "    L0 = ((x - x1) * (x - x2)) / ((x0 - x1) * (x0 - x2))\n",
        "    L1 = ((x - x0) * (x - x2)) / ((x1 - x0) * (x1 - x2))\n",
        "    L2 = ((x - x0) * (x - x1)) / ((x2 - x0) * (x2 - x1))\n",
        "\n",
        "    # Combine to form the Lagrange polynomial\n",
        "    return f_x0 * L0 + f_x1 * L1 + f_x2 * L2"
      ]
    },
    {
      "cell_type": "markdown",
      "metadata": {
        "id": "9RyBBtjw9os2"
      },
      "source": [
        "##### **Step 3: Define the interval**\n",
        "Define the interval as a numpy array of two elements, where the first element is the lower bound and the second element is the upper bound. Name the array `interval`."
      ]
    },
    {
      "cell_type": "code",
      "source": [],
      "metadata": {
        "id": "8niR4lDD_C0i"
      },
      "execution_count": null,
      "outputs": []
    },
    {
      "cell_type": "code",
      "execution_count": null,
      "metadata": {
        "id": "peG29HDI9os3"
      },
      "outputs": [],
      "source": [
        "# Write appropriate code"
      ]
    },
    {
      "cell_type": "markdown",
      "metadata": {
        "id": "RF7UCgLT9os4"
      },
      "source": [
        "##### **Step 4: Plot the function and the approximated polynomial**\n",
        "\n",
        "Plot the function $f(x)$ and the approximated polynomial using the function `lagrange` defined in Step 2. Use the interval defined in Step 3 as the x-axis. Also, plot the points $(x_0, f(x_0))$, $(x_1, f(x_1))$, and $(x_2, f(x_2))$ on the same plot. Fill the area under the approximated polynomial using numpy's `fill_between` function."
      ]
    },
    {
      "cell_type": "code",
      "execution_count": null,
      "metadata": {
        "id": "dIgv7HwO9os4"
      },
      "outputs": [],
      "source": [
        "# Write appropriate code"
      ]
    },
    {
      "cell_type": "markdown",
      "metadata": {
        "id": "_fmGnNqZ9os5"
      },
      "source": [
        "##### **Step 5: Define a function to approximate the integral using Simpson's 1/3 rule**\n",
        "\n",
        "Define a function `simpson` that takes a parameter `interval` and returns the approximate value of the integral of $f(x)$ over the interval `interval` using Simpson's 1/3 rule. You have to employ the following steps:\n",
        "\n",
        "*   Calculate the midpoint of the interval. Store the value in a variable named `midpoint`.\n",
        "*   Calculate the value of $f(x_0)$, $f(x_1)$, and $f(x_2)$, where $x_0 = a$, $x_1 = \\frac{a+b}{2} = midpoint$, and $x_2 = b$. Store the values in variables named `f0`, `f1`, and `f2` respectively.\n",
        "*   Calculate the approximate value of the integral using Simpson's 1/3 rule. Store the value in a variable named `I`.\n",
        "*   Return the value of `I`."
      ]
    },
    {
      "cell_type": "code",
      "execution_count": null,
      "metadata": {
        "id": "Eo2-RzDO9os5"
      },
      "outputs": [],
      "source": [
        "# Write appropriate code"
      ]
    },
    {
      "cell_type": "markdown",
      "metadata": {
        "id": "1YFyFTJx9os6"
      },
      "source": [
        "##### **Step 6: Approximate the integral using Simpson's 1/3 rule**\n",
        "\n",
        "Call the function `simpson` with the interval `interval` as the parameter. Store the value returned by the function in a variable named `I`. Print the value of `I`. Then you should compute the integral analytically and find the absolute relative error between the two values. Print the absolute relative error."
      ]
    },
    {
      "cell_type": "code",
      "execution_count": null,
      "metadata": {
        "id": "jk5iFe6W9os6"
      },
      "outputs": [],
      "source": [
        "# Write appropriate code"
      ]
    }
  ],
  "metadata": {
    "kernelspec": {
      "display_name": "Python 3",
      "language": "python",
      "name": "python3"
    },
    "language_info": {
      "codemirror_mode": {
        "name": "ipython",
        "version": 3
      },
      "file_extension": ".py",
      "mimetype": "text/x-python",
      "name": "python",
      "nbconvert_exporter": "python",
      "pygments_lexer": "ipython3",
      "version": "3.10.6 (tags/v3.10.6:9c7b4bd, Aug  1 2022, 21:53:49) [MSC v.1932 64 bit (AMD64)]"
    },
    "orig_nbformat": 4,
    "vscode": {
      "interpreter": {
        "hash": "b148fc9bfa8b60132af830e32e1690e4e023b803e92912df15b823b90141dda6"
      }
    },
    "colab": {
      "provenance": [],
      "include_colab_link": true
    }
  },
  "nbformat": 4,
  "nbformat_minor": 0
}